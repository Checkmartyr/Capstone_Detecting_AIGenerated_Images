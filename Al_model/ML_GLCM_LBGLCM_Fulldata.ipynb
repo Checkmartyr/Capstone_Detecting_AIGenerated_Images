{
 "cells": [
  {
   "cell_type": "code",
   "execution_count": 1,
   "metadata": {},
   "outputs": [
    {
     "name": "stderr",
     "output_type": "stream",
     "text": [
      "/tmp/ipykernel_24579/3904593019.py:3: DeprecationWarning: \n",
      "Pyarrow will become a required dependency of pandas in the next major release of pandas (pandas 3.0),\n",
      "(to allow more performant data types, such as the Arrow string type, and better interoperability with other libraries)\n",
      "but was not found to be installed on your system.\n",
      "If this would cause problems for you,\n",
      "please provide us feedback at https://github.com/pandas-dev/pandas/issues/54466\n",
      "        \n",
      "  import pandas as pd\n"
     ]
    }
   ],
   "source": [
    "import os\n",
    "import numpy as np\n",
    "import pandas as pd\n",
    "from skimage import io, color,img_as_ubyte\n",
    "from skimage.feature import graycomatrix, graycoprops, local_binary_pattern\n",
    "import cv2\n",
    "import seaborn as sns\n",
    "from sklearn import svm\n",
    "from sklearn.tree import DecisionTreeClassifier\n",
    "from sklearn.ensemble import RandomForestClassifier\n",
    "from sklearn.ensemble import VotingClassifier\n",
    "from sklearn.model_selection import cross_val_score\n",
    "from sklearn.model_selection import train_test_split\n",
    "from sklearn.neighbors import KNeighborsClassifier\n",
    "from sklearn.naive_bayes import GaussianNB\n",
    "from sklearn import tree\n",
    "import matplotlib.pyplot as plt\n",
    "from sklearn.metrics import classification_report, accuracy_score,average_precision_score\n",
    "import pickle"
   ]
  },
  {
   "cell_type": "code",
   "execution_count": 2,
   "metadata": {},
   "outputs": [],
   "source": [
    "\n",
    "\n",
    "def co_occurrence_matrix(image_path, distances=[1, 5, 20], levels=256):\n",
    "    # Load the image\n",
    "    # image = io.imread(image_path)\n",
    "    \n",
    "    image = image_path\n",
    "    # Check if the image has an alpha channel; if so, drop it\n",
    "    if image.shape[-1] == 4:\n",
    "        image = image[..., :3]  # Keep only the first three channels (RGB)\n",
    "\n",
    "    # Convert to grayscale if it's a color image\n",
    "    if len(image.shape) == 3:\n",
    "        image = color.rgb2gray(image)\n",
    "        \n",
    "    # Quantize the image to the specified levels\n",
    "    image = (image * (levels - 1)).astype(np.uint8)\n",
    "    \n",
    "    # Define angles for 0, 45, 90, 135 degrees in radians\n",
    "    angles = [0, np.pi/4, np.pi/2] \n",
    "    # Calculate the GLCM\n",
    "    glcm = graycomatrix(image, distances=distances, angles=angles, levels=levels, symmetric=True, normed=True)\n",
    "    return glcm\n",
    "\n",
    "def calculate_color_histogram(image, bins=256, channel_mask=[True, True, True]):\n",
    "    # Calculate histograms for each channel\n",
    "    histograms = []\n",
    "    for i in range(3):  # Assuming the image has three channels (RGB)\n",
    "        if channel_mask[i]:\n",
    "            hist, _ = np.histogram(image[:, :, i], bins=bins, range=(0, 256), density=True)\n",
    "            histograms.append(hist)\n",
    "        else:\n",
    "            histograms.append(np.zeros(bins))  # Append zeros if channel is masked\n",
    "    return np.concatenate(histograms)\n",
    "\n",
    "def calculate_texture_features(glcm):\n",
    "    # Initialize a dictionary to store aggregated features\n",
    "    features = {\n",
    "\n",
    "    }\n",
    "    # Number of directions\n",
    "    num_directions = glcm.shape[2]\n",
    "    num_anles = glcm.shape[3]\n",
    "    \n",
    "    # Compute features for each direction and average them\n",
    "    for j in range(num_directions):\n",
    "        for k in range(num_anles):\n",
    "            features[f'Contrast_{j}_{k}'] = graycoprops(glcm, 'contrast',)[j, k]\n",
    "            # features[f'Correlation_{j}_{k}'] = graycoprops(glcm, 'correlation')[j, k]\n",
    "            # features[f'Energy_{j}_{k}'] = graycoprops(glcm, 'energy')[j, k]\n",
    "            features[f'Homogeneity_{j}_{k}'] = graycoprops(glcm, 'homogeneity')[j, k]\n",
    "            # features[f'ASM_{j}_{k}'] = graycoprops(glcm, 'ASM')[j, k]\n",
    "            features[f'Dissimilarity_{j}_{k}'] = graycoprops(glcm, 'dissimilarity')[j, k]\n",
    "            entropy = -np.sum(glcm[:, :, j, k] * np.log2(glcm[:, :, j, k] + 1e-10))\n",
    "            features[f'Entropy_{j}_{k}'] = entropy\n",
    "\n",
    "    # Average the features over the number of directions\n",
    "    for key in features:\n",
    "        features[key] /= num_directions\n",
    "\n",
    "    return features\n",
    "\n",
    "def lbglcm_calculator(image_url ,radius = 3  ):\n",
    "    # image = io.imread(image_url)\n",
    "    image = image_url\n",
    "    # Check if the image has an alpha channel; if so, drop it\n",
    "    if image.shape[-1] == 4:\n",
    "        image = image[..., :3]  # Keep only the first three channels (RGB\n",
    "    # Convert to grayscale if it's a color image\n",
    "    if len(image.shape) == 3:\n",
    "        image_gray = color.rgb2gray(image)\n",
    "    else :\n",
    "        image_gray = image\n",
    "    \n",
    "    # image_gray = img_as_ubyte(rgb2gray(image))\n",
    "\n",
    "    n_points = 8 * radius \n",
    "\n",
    "    lbp_image = local_binary_pattern(image_gray, n_points, radius, method=\"uniform\")\n",
    "\n",
    "    lbglcm = graycomatrix(lbp_image.astype(np.uint8), distances=[1, 5, 20], angles = [0, np.pi/4, np.pi/2] , levels=256)\n",
    "    return lbglcm\n",
    "\n",
    "def calculate_texture_features_lbglcm(lbglcm):\n",
    "    # Initialize a dictionary to store aggregated features\n",
    "    features = {\n",
    "\n",
    "    }\n",
    "    # Number of directions\n",
    "    num_directions = lbglcm.shape[2]\n",
    "    num_anles = lbglcm.shape[3]\n",
    "    \n",
    "    # Compute features for each direction and average them\n",
    "    for j in range(num_directions):\n",
    "        for k in range(num_anles):\n",
    "            features[f'lbglcm_Contrast_{j}_{k}'] = graycoprops(lbglcm, 'contrast',)[j, k]\n",
    "            # features[f'lbglcm_Correlation_{j}_{k}'] = graycoprops(lbglcm, 'correlation')[j, k]\n",
    "            # features[f'lbglcm_Energy_{j}_{k}'] = graycoprops(lbglcm, 'energy')[j, k]\n",
    "            features[f'lbglcm_Homogeneity_{j}_{k}'] = graycoprops(lbglcm, 'homogeneity')[j, k]\n",
    "            # features[f'lbglcm_ASM_{j}_{k}'] = graycoprops(lbglcm, 'ASM')[j, k]\n",
    "            features[f'lbglcm_Dissimilarity_{j}_{k}'] = graycoprops(lbglcm, 'dissimilarity')[j, k]\n",
    "            entropy = -np.sum(lbglcm[:, :, j, k] * np.log2(lbglcm[:, :, j, k] + 1e-10))\n",
    "            features[f'lbglcm_Entropy_{j}_{k}'] = entropy\n",
    "\n",
    "    # Average the features over the number of directions\n",
    "    for key in features:\n",
    "        features[key] /= num_directions\n",
    "\n",
    "    return features\n",
    "\n",
    "\n",
    "\n",
    "def calculate_glrlm(image, levels=256):\n",
    "    # Check if image is RGBA, if so, convert to RGB\n",
    "    if image.shape[-1] == 4:\n",
    "        image = image[..., :3]  # Discard alpha channel\n",
    "\n",
    "    # Convert to grayscale if it's a color image\n",
    "    if len(image.shape) == 3:\n",
    "        image = color.rgb2gray(image)\n",
    "\n",
    "    # Ensure the image is in the correct format\n",
    "    image = img_as_ubyte(image)\n",
    "\n",
    "    # Initialize the GLRLM matrix\n",
    "    max_run_length = image.shape[1]  # maximum run length possible is the number of columns\n",
    "    glrlm = np.zeros((levels, max_run_length), dtype=int)\n",
    "    \n",
    "    # Calculate GLRLM\n",
    "    for i in range(image.shape[0]):  # for each row\n",
    "        run_length = 0\n",
    "        previous_value = image[i, 0]\n",
    "        for j in range(image.shape[1]):  # for each column\n",
    "            if image[i, j] == previous_value:\n",
    "                run_length += 1\n",
    "            else:\n",
    "                if run_length > 0:\n",
    "                    glrlm[previous_value, run_length - 1] += 1\n",
    "                run_length = 1\n",
    "                previous_value = image[i, j]\n",
    "        if run_length > 0:\n",
    "            glrlm[previous_value, run_length - 1] += 1  # For the last run in the row\n",
    "\n",
    "    return glrlm\n",
    "\n",
    "def short_runs_emphasis(glrlm):\n",
    "    # Calculate Short Runs Emphasis\n",
    "    j = np.arange(1, glrlm.shape[1] + 1)\n",
    "    denominator = np.sum(glrlm)\n",
    "    numerator = np.sum(glrlm / j**2, axis=(0, 1))  # sum over both dimensions\n",
    "    return numerator / denominator if denominator != 0 else 0\n",
    "\n",
    "def process_image(image_path):\n",
    "    try:\n",
    "        image = io.imread(image_path)\n",
    "        if image.shape[-1] == 4:\n",
    "            image = image[..., :3]\n",
    "\n",
    "        co_occ = co_occurrence_matrix(image, levels=256)\n",
    "        lbglcm = lbglcm_calculator(image)\n",
    "        glrlm = calculate_glrlm(image)\n",
    "        sre = short_runs_emphasis(glrlm)\n",
    "\n",
    "        features = calculate_texture_features(co_occ)\n",
    "        features.update(calculate_texture_features_lbglcm(lbglcm))\n",
    "        features['short_runs_emphasis'] = sre\n",
    "        # features['Class'] = os.path.basename(os.path.dirname(image_path))\n",
    "        return features\n",
    "    except Exception as e:\n",
    "        print(f\"Failed to process {image_path}: {e}\")\n",
    "        return None"
   ]
  },
  {
   "cell_type": "code",
   "execution_count": 2,
   "metadata": {},
   "outputs": [],
   "source": [
    "\n",
    "# # Collect data\n",
    "# image_folder = './train'\n",
    "# features_df = collect_features_from_images(image_folder)\n",
    "# features_df.to_csv('image_features.csv', index=False)\n",
    "\n",
    "# Load data from CSV\n",
    "from sklearn.discriminant_analysis import StandardScaler\n",
    "\n",
    "\n",
    "data = pd.read_csv('train_Ai_image_features_notall.csv')\n",
    "X = data.drop('Class', axis=1)\n",
    "\n",
    "y = data['Class']\n",
    "\n",
    "data2 = pd.read_csv('test_Ai_image_features_notall.csv')\n",
    "X_t = data2.drop('Class', axis=1)\n",
    "\n",
    "y_t = data2['Class']\n",
    "\n",
    "# # Scale data\n",
    "# scaler = StandardScaler()\n",
    "# X = scaler.fit_transform(X)\n",
    "# X_t = scaler.transform(X_t)\n",
    "\n",
    "# Split data into training and testing sets\n",
    "X_train,_, y_train ,_= train_test_split(X, y, train_size=0.99 , random_state=42)\n",
    "\n",
    "X_test, _, y_test  ,_ = train_test_split(X_t, y_t,  train_size=0.99, random_state=42)\n",
    "# Train SVM classifier\n"
   ]
  },
  {
   "cell_type": "code",
   "execution_count": null,
   "metadata": {},
   "outputs": [],
   "source": []
  },
  {
   "cell_type": "code",
   "execution_count": 4,
   "metadata": {},
   "outputs": [],
   "source": [
    "Xmin = X.min()\n",
    "Xmax = X.max()\n"
   ]
  },
  {
   "cell_type": "code",
   "execution_count": 5,
   "metadata": {},
   "outputs": [
    {
     "data": {
      "text/html": [
       "<div>\n",
       "<style scoped>\n",
       "    .dataframe tbody tr th:only-of-type {\n",
       "        vertical-align: middle;\n",
       "    }\n",
       "\n",
       "    .dataframe tbody tr th {\n",
       "        vertical-align: top;\n",
       "    }\n",
       "\n",
       "    .dataframe thead th {\n",
       "        text-align: right;\n",
       "    }\n",
       "</style>\n",
       "<table border=\"1\" class=\"dataframe\">\n",
       "  <thead>\n",
       "    <tr style=\"text-align: right;\">\n",
       "      <th></th>\n",
       "      <th>Contrast_0_0</th>\n",
       "      <th>Homogeneity_0_0</th>\n",
       "      <th>Dissimilarity_0_0</th>\n",
       "      <th>Entropy_0_0</th>\n",
       "      <th>Contrast_0_1</th>\n",
       "      <th>Homogeneity_0_1</th>\n",
       "      <th>Dissimilarity_0_1</th>\n",
       "      <th>Entropy_0_1</th>\n",
       "      <th>Contrast_0_2</th>\n",
       "      <th>Homogeneity_0_2</th>\n",
       "      <th>...</th>\n",
       "      <th>lbglcm_Entropy_2_0</th>\n",
       "      <th>lbglcm_Contrast_2_1</th>\n",
       "      <th>lbglcm_Homogeneity_2_1</th>\n",
       "      <th>lbglcm_Dissimilarity_2_1</th>\n",
       "      <th>lbglcm_Entropy_2_1</th>\n",
       "      <th>lbglcm_Contrast_2_2</th>\n",
       "      <th>lbglcm_Homogeneity_2_2</th>\n",
       "      <th>lbglcm_Dissimilarity_2_2</th>\n",
       "      <th>lbglcm_Entropy_2_2</th>\n",
       "      <th>short_runs_emphasis</th>\n",
       "    </tr>\n",
       "  </thead>\n",
       "  <tbody>\n",
       "    <tr>\n",
       "      <th>97646</th>\n",
       "      <td>528.694731</td>\n",
       "      <td>0.093562</td>\n",
       "      <td>7.727000</td>\n",
       "      <td>3.859437</td>\n",
       "      <td>624.955659</td>\n",
       "      <td>0.087449</td>\n",
       "      <td>8.761886</td>\n",
       "      <td>3.906281</td>\n",
       "      <td>504.089884</td>\n",
       "      <td>0.095095</td>\n",
       "      <td>...</td>\n",
       "      <td>-5.112645e+06</td>\n",
       "      <td>42.545623</td>\n",
       "      <td>0.163274</td>\n",
       "      <td>2.199358</td>\n",
       "      <td>-5.076028e+06</td>\n",
       "      <td>41.989159</td>\n",
       "      <td>0.169073</td>\n",
       "      <td>2.152355</td>\n",
       "      <td>-5.130407e+06</td>\n",
       "      <td>0.946925</td>\n",
       "    </tr>\n",
       "    <tr>\n",
       "      <th>47844</th>\n",
       "      <td>20.296115</td>\n",
       "      <td>0.189150</td>\n",
       "      <td>0.854334</td>\n",
       "      <td>3.617642</td>\n",
       "      <td>32.353806</td>\n",
       "      <td>0.163574</td>\n",
       "      <td>1.118600</td>\n",
       "      <td>3.751520</td>\n",
       "      <td>18.531603</td>\n",
       "      <td>0.194147</td>\n",
       "      <td>...</td>\n",
       "      <td>-6.706056e+06</td>\n",
       "      <td>29.079727</td>\n",
       "      <td>0.074942</td>\n",
       "      <td>2.328341</td>\n",
       "      <td>-6.676835e+06</td>\n",
       "      <td>28.847825</td>\n",
       "      <td>0.076662</td>\n",
       "      <td>2.304308</td>\n",
       "      <td>-6.747040e+06</td>\n",
       "      <td>0.788668</td>\n",
       "    </tr>\n",
       "    <tr>\n",
       "      <th>43483</th>\n",
       "      <td>134.484852</td>\n",
       "      <td>0.186857</td>\n",
       "      <td>2.237864</td>\n",
       "      <td>3.682657</td>\n",
       "      <td>171.409876</td>\n",
       "      <td>0.170493</td>\n",
       "      <td>2.625007</td>\n",
       "      <td>3.777501</td>\n",
       "      <td>80.195048</td>\n",
       "      <td>0.199765</td>\n",
       "      <td>...</td>\n",
       "      <td>-4.428970e+06</td>\n",
       "      <td>36.811250</td>\n",
       "      <td>0.108207</td>\n",
       "      <td>2.455697</td>\n",
       "      <td>-4.419485e+06</td>\n",
       "      <td>36.064135</td>\n",
       "      <td>0.112448</td>\n",
       "      <td>2.396555</td>\n",
       "      <td>-4.492375e+06</td>\n",
       "      <td>0.825403</td>\n",
       "    </tr>\n",
       "    <tr>\n",
       "      <th>26192</th>\n",
       "      <td>15.684652</td>\n",
       "      <td>0.201822</td>\n",
       "      <td>0.763166</td>\n",
       "      <td>3.489490</td>\n",
       "      <td>27.434464</td>\n",
       "      <td>0.173280</td>\n",
       "      <td>1.066536</td>\n",
       "      <td>3.644966</td>\n",
       "      <td>16.824880</td>\n",
       "      <td>0.191510</td>\n",
       "      <td>...</td>\n",
       "      <td>-6.789181e+06</td>\n",
       "      <td>34.079149</td>\n",
       "      <td>0.082153</td>\n",
       "      <td>2.523570</td>\n",
       "      <td>-6.712106e+06</td>\n",
       "      <td>33.226984</td>\n",
       "      <td>0.085400</td>\n",
       "      <td>2.456903</td>\n",
       "      <td>-6.742823e+06</td>\n",
       "      <td>0.783392</td>\n",
       "    </tr>\n",
       "    <tr>\n",
       "      <th>8114</th>\n",
       "      <td>53.547135</td>\n",
       "      <td>0.201109</td>\n",
       "      <td>1.322102</td>\n",
       "      <td>3.546967</td>\n",
       "      <td>85.892660</td>\n",
       "      <td>0.186217</td>\n",
       "      <td>1.649163</td>\n",
       "      <td>3.633750</td>\n",
       "      <td>47.093559</td>\n",
       "      <td>0.205174</td>\n",
       "      <td>...</td>\n",
       "      <td>-7.040010e+06</td>\n",
       "      <td>34.739192</td>\n",
       "      <td>0.105902</td>\n",
       "      <td>2.397259</td>\n",
       "      <td>-7.015896e+06</td>\n",
       "      <td>34.326364</td>\n",
       "      <td>0.108788</td>\n",
       "      <td>2.361511</td>\n",
       "      <td>-7.094791e+06</td>\n",
       "      <td>0.801446</td>\n",
       "    </tr>\n",
       "  </tbody>\n",
       "</table>\n",
       "<p>5 rows × 73 columns</p>\n",
       "</div>"
      ],
      "text/plain": [
       "       Contrast_0_0  Homogeneity_0_0  Dissimilarity_0_0  Entropy_0_0  \\\n",
       "97646    528.694731         0.093562           7.727000     3.859437   \n",
       "47844     20.296115         0.189150           0.854334     3.617642   \n",
       "43483    134.484852         0.186857           2.237864     3.682657   \n",
       "26192     15.684652         0.201822           0.763166     3.489490   \n",
       "8114      53.547135         0.201109           1.322102     3.546967   \n",
       "\n",
       "       Contrast_0_1  Homogeneity_0_1  Dissimilarity_0_1  Entropy_0_1  \\\n",
       "97646    624.955659         0.087449           8.761886     3.906281   \n",
       "47844     32.353806         0.163574           1.118600     3.751520   \n",
       "43483    171.409876         0.170493           2.625007     3.777501   \n",
       "26192     27.434464         0.173280           1.066536     3.644966   \n",
       "8114      85.892660         0.186217           1.649163     3.633750   \n",
       "\n",
       "       Contrast_0_2  Homogeneity_0_2  ...  lbglcm_Entropy_2_0  \\\n",
       "97646    504.089884         0.095095  ...       -5.112645e+06   \n",
       "47844     18.531603         0.194147  ...       -6.706056e+06   \n",
       "43483     80.195048         0.199765  ...       -4.428970e+06   \n",
       "26192     16.824880         0.191510  ...       -6.789181e+06   \n",
       "8114      47.093559         0.205174  ...       -7.040010e+06   \n",
       "\n",
       "       lbglcm_Contrast_2_1  lbglcm_Homogeneity_2_1  lbglcm_Dissimilarity_2_1  \\\n",
       "97646            42.545623                0.163274                  2.199358   \n",
       "47844            29.079727                0.074942                  2.328341   \n",
       "43483            36.811250                0.108207                  2.455697   \n",
       "26192            34.079149                0.082153                  2.523570   \n",
       "8114             34.739192                0.105902                  2.397259   \n",
       "\n",
       "       lbglcm_Entropy_2_1  lbglcm_Contrast_2_2  lbglcm_Homogeneity_2_2  \\\n",
       "97646       -5.076028e+06            41.989159                0.169073   \n",
       "47844       -6.676835e+06            28.847825                0.076662   \n",
       "43483       -4.419485e+06            36.064135                0.112448   \n",
       "26192       -6.712106e+06            33.226984                0.085400   \n",
       "8114        -7.015896e+06            34.326364                0.108788   \n",
       "\n",
       "       lbglcm_Dissimilarity_2_2  lbglcm_Entropy_2_2  short_runs_emphasis  \n",
       "97646                  2.152355       -5.130407e+06             0.946925  \n",
       "47844                  2.304308       -6.747040e+06             0.788668  \n",
       "43483                  2.396555       -4.492375e+06             0.825403  \n",
       "26192                  2.456903       -6.742823e+06             0.783392  \n",
       "8114                   2.361511       -7.094791e+06             0.801446  \n",
       "\n",
       "[5 rows x 73 columns]"
      ]
     },
     "execution_count": 5,
     "metadata": {},
     "output_type": "execute_result"
    }
   ],
   "source": [
    "X_train.head(5)"
   ]
  },
  {
   "cell_type": "code",
   "execution_count": null,
   "metadata": {},
   "outputs": [],
   "source": [
    "def plot_pairplot(df):\n",
    "    pairplot = sns.pairplot(df, hue='Class', markers=[\"o\", \"s\"], palette='bright')\n",
    "    pairplot.fig.suptitle('Pair Plot of Texture Features', y=1.02)\n",
    "    plt.show()\n",
    "plot_pairplot(data)"
   ]
  },
  {
   "cell_type": "code",
   "execution_count": 6,
   "metadata": {},
   "outputs": [],
   "source": [
    "#MinMax Scaling\n",
    "\n",
    "normalized_X = (X - X.min()) / (X.max() - X.min())\n",
    "normalized_X_t = (X_t - X.min()) / (X.max() - X.min())\n"
   ]
  },
  {
   "cell_type": "code",
   "execution_count": 7,
   "metadata": {},
   "outputs": [
    {
     "data": {
      "text/html": [
       "<div>\n",
       "<style scoped>\n",
       "    .dataframe tbody tr th:only-of-type {\n",
       "        vertical-align: middle;\n",
       "    }\n",
       "\n",
       "    .dataframe tbody tr th {\n",
       "        vertical-align: top;\n",
       "    }\n",
       "\n",
       "    .dataframe thead th {\n",
       "        text-align: right;\n",
       "    }\n",
       "</style>\n",
       "<table border=\"1\" class=\"dataframe\">\n",
       "  <thead>\n",
       "    <tr style=\"text-align: right;\">\n",
       "      <th></th>\n",
       "      <th>Contrast_0_0</th>\n",
       "      <th>Homogeneity_0_0</th>\n",
       "      <th>Dissimilarity_0_0</th>\n",
       "      <th>Entropy_0_0</th>\n",
       "      <th>Contrast_0_1</th>\n",
       "      <th>Homogeneity_0_1</th>\n",
       "      <th>Dissimilarity_0_1</th>\n",
       "      <th>Entropy_0_1</th>\n",
       "      <th>Contrast_0_2</th>\n",
       "      <th>Homogeneity_0_2</th>\n",
       "      <th>...</th>\n",
       "      <th>lbglcm_Entropy_2_0</th>\n",
       "      <th>lbglcm_Contrast_2_1</th>\n",
       "      <th>lbglcm_Homogeneity_2_1</th>\n",
       "      <th>lbglcm_Dissimilarity_2_1</th>\n",
       "      <th>lbglcm_Entropy_2_1</th>\n",
       "      <th>lbglcm_Contrast_2_2</th>\n",
       "      <th>lbglcm_Homogeneity_2_2</th>\n",
       "      <th>lbglcm_Dissimilarity_2_2</th>\n",
       "      <th>lbglcm_Entropy_2_2</th>\n",
       "      <th>short_runs_emphasis</th>\n",
       "    </tr>\n",
       "  </thead>\n",
       "  <tbody>\n",
       "    <tr>\n",
       "      <th>0</th>\n",
       "      <td>0.021963</td>\n",
       "      <td>0.613650</td>\n",
       "      <td>0.067927</td>\n",
       "      <td>0.682383</td>\n",
       "      <td>0.018891</td>\n",
       "      <td>0.599015</td>\n",
       "      <td>0.057537</td>\n",
       "      <td>0.680171</td>\n",
       "      <td>0.015083</td>\n",
       "      <td>0.649123</td>\n",
       "      <td>...</td>\n",
       "      <td>0.930534</td>\n",
       "      <td>0.521611</td>\n",
       "      <td>0.260474</td>\n",
       "      <td>0.729484</td>\n",
       "      <td>0.930446</td>\n",
       "      <td>0.531012</td>\n",
       "      <td>0.253541</td>\n",
       "      <td>0.751406</td>\n",
       "      <td>0.929925</td>\n",
       "      <td>0.730914</td>\n",
       "    </tr>\n",
       "    <tr>\n",
       "      <th>1</th>\n",
       "      <td>0.008636</td>\n",
       "      <td>0.624670</td>\n",
       "      <td>0.039197</td>\n",
       "      <td>0.651912</td>\n",
       "      <td>0.018358</td>\n",
       "      <td>0.537497</td>\n",
       "      <td>0.058124</td>\n",
       "      <td>0.684265</td>\n",
       "      <td>0.013872</td>\n",
       "      <td>0.588330</td>\n",
       "      <td>...</td>\n",
       "      <td>0.926511</td>\n",
       "      <td>0.509756</td>\n",
       "      <td>0.237163</td>\n",
       "      <td>0.729939</td>\n",
       "      <td>0.927045</td>\n",
       "      <td>0.512576</td>\n",
       "      <td>0.241716</td>\n",
       "      <td>0.739159</td>\n",
       "      <td>0.926929</td>\n",
       "      <td>0.675347</td>\n",
       "    </tr>\n",
       "    <tr>\n",
       "      <th>2</th>\n",
       "      <td>0.010455</td>\n",
       "      <td>0.821933</td>\n",
       "      <td>0.030081</td>\n",
       "      <td>0.367015</td>\n",
       "      <td>0.012315</td>\n",
       "      <td>0.801986</td>\n",
       "      <td>0.030326</td>\n",
       "      <td>0.372236</td>\n",
       "      <td>0.007520</td>\n",
       "      <td>0.841994</td>\n",
       "      <td>...</td>\n",
       "      <td>0.938831</td>\n",
       "      <td>0.276773</td>\n",
       "      <td>0.557288</td>\n",
       "      <td>0.407284</td>\n",
       "      <td>0.938547</td>\n",
       "      <td>0.267407</td>\n",
       "      <td>0.579157</td>\n",
       "      <td>0.394469</td>\n",
       "      <td>0.937483</td>\n",
       "      <td>0.677934</td>\n",
       "    </tr>\n",
       "    <tr>\n",
       "      <th>3</th>\n",
       "      <td>0.007622</td>\n",
       "      <td>0.757858</td>\n",
       "      <td>0.028258</td>\n",
       "      <td>0.580915</td>\n",
       "      <td>0.011582</td>\n",
       "      <td>0.669757</td>\n",
       "      <td>0.035606</td>\n",
       "      <td>0.609295</td>\n",
       "      <td>0.009855</td>\n",
       "      <td>0.727687</td>\n",
       "      <td>...</td>\n",
       "      <td>0.937005</td>\n",
       "      <td>0.381833</td>\n",
       "      <td>0.160219</td>\n",
       "      <td>0.663521</td>\n",
       "      <td>0.937162</td>\n",
       "      <td>0.384663</td>\n",
       "      <td>0.164599</td>\n",
       "      <td>0.672604</td>\n",
       "      <td>0.936603</td>\n",
       "      <td>0.533358</td>\n",
       "    </tr>\n",
       "    <tr>\n",
       "      <th>4</th>\n",
       "      <td>0.019795</td>\n",
       "      <td>0.592891</td>\n",
       "      <td>0.061964</td>\n",
       "      <td>0.632054</td>\n",
       "      <td>0.020259</td>\n",
       "      <td>0.551826</td>\n",
       "      <td>0.059205</td>\n",
       "      <td>0.639933</td>\n",
       "      <td>0.012079</td>\n",
       "      <td>0.645935</td>\n",
       "      <td>...</td>\n",
       "      <td>0.926636</td>\n",
       "      <td>0.500732</td>\n",
       "      <td>0.250585</td>\n",
       "      <td>0.720163</td>\n",
       "      <td>0.926631</td>\n",
       "      <td>0.496849</td>\n",
       "      <td>0.261761</td>\n",
       "      <td>0.716720</td>\n",
       "      <td>0.926056</td>\n",
       "      <td>0.722626</td>\n",
       "    </tr>\n",
       "  </tbody>\n",
       "</table>\n",
       "<p>5 rows × 73 columns</p>\n",
       "</div>"
      ],
      "text/plain": [
       "   Contrast_0_0  Homogeneity_0_0  Dissimilarity_0_0  Entropy_0_0  \\\n",
       "0      0.021963         0.613650           0.067927     0.682383   \n",
       "1      0.008636         0.624670           0.039197     0.651912   \n",
       "2      0.010455         0.821933           0.030081     0.367015   \n",
       "3      0.007622         0.757858           0.028258     0.580915   \n",
       "4      0.019795         0.592891           0.061964     0.632054   \n",
       "\n",
       "   Contrast_0_1  Homogeneity_0_1  Dissimilarity_0_1  Entropy_0_1  \\\n",
       "0      0.018891         0.599015           0.057537     0.680171   \n",
       "1      0.018358         0.537497           0.058124     0.684265   \n",
       "2      0.012315         0.801986           0.030326     0.372236   \n",
       "3      0.011582         0.669757           0.035606     0.609295   \n",
       "4      0.020259         0.551826           0.059205     0.639933   \n",
       "\n",
       "   Contrast_0_2  Homogeneity_0_2  ...  lbglcm_Entropy_2_0  \\\n",
       "0      0.015083         0.649123  ...            0.930534   \n",
       "1      0.013872         0.588330  ...            0.926511   \n",
       "2      0.007520         0.841994  ...            0.938831   \n",
       "3      0.009855         0.727687  ...            0.937005   \n",
       "4      0.012079         0.645935  ...            0.926636   \n",
       "\n",
       "   lbglcm_Contrast_2_1  lbglcm_Homogeneity_2_1  lbglcm_Dissimilarity_2_1  \\\n",
       "0             0.521611                0.260474                  0.729484   \n",
       "1             0.509756                0.237163                  0.729939   \n",
       "2             0.276773                0.557288                  0.407284   \n",
       "3             0.381833                0.160219                  0.663521   \n",
       "4             0.500732                0.250585                  0.720163   \n",
       "\n",
       "   lbglcm_Entropy_2_1  lbglcm_Contrast_2_2  lbglcm_Homogeneity_2_2  \\\n",
       "0            0.930446             0.531012                0.253541   \n",
       "1            0.927045             0.512576                0.241716   \n",
       "2            0.938547             0.267407                0.579157   \n",
       "3            0.937162             0.384663                0.164599   \n",
       "4            0.926631             0.496849                0.261761   \n",
       "\n",
       "   lbglcm_Dissimilarity_2_2  lbglcm_Entropy_2_2  short_runs_emphasis  \n",
       "0                  0.751406            0.929925             0.730914  \n",
       "1                  0.739159            0.926929             0.675347  \n",
       "2                  0.394469            0.937483             0.677934  \n",
       "3                  0.672604            0.936603             0.533358  \n",
       "4                  0.716720            0.926056             0.722626  \n",
       "\n",
       "[5 rows x 73 columns]"
      ]
     },
     "execution_count": 7,
     "metadata": {},
     "output_type": "execute_result"
    }
   ],
   "source": [
    "normalized_X.head(5)\n"
   ]
  },
  {
   "cell_type": "code",
   "execution_count": 8,
   "metadata": {},
   "outputs": [
    {
     "data": {
      "text/html": [
       "<div>\n",
       "<style scoped>\n",
       "    .dataframe tbody tr th:only-of-type {\n",
       "        vertical-align: middle;\n",
       "    }\n",
       "\n",
       "    .dataframe tbody tr th {\n",
       "        vertical-align: top;\n",
       "    }\n",
       "\n",
       "    .dataframe thead th {\n",
       "        text-align: right;\n",
       "    }\n",
       "</style>\n",
       "<table border=\"1\" class=\"dataframe\">\n",
       "  <thead>\n",
       "    <tr style=\"text-align: right;\">\n",
       "      <th></th>\n",
       "      <th>Contrast_0_0</th>\n",
       "      <th>Homogeneity_0_0</th>\n",
       "      <th>Dissimilarity_0_0</th>\n",
       "      <th>Entropy_0_0</th>\n",
       "      <th>Contrast_0_1</th>\n",
       "      <th>Homogeneity_0_1</th>\n",
       "      <th>Dissimilarity_0_1</th>\n",
       "      <th>Entropy_0_1</th>\n",
       "      <th>Contrast_0_2</th>\n",
       "      <th>Homogeneity_0_2</th>\n",
       "      <th>...</th>\n",
       "      <th>lbglcm_Entropy_2_0</th>\n",
       "      <th>lbglcm_Contrast_2_1</th>\n",
       "      <th>lbglcm_Homogeneity_2_1</th>\n",
       "      <th>lbglcm_Dissimilarity_2_1</th>\n",
       "      <th>lbglcm_Entropy_2_1</th>\n",
       "      <th>lbglcm_Contrast_2_2</th>\n",
       "      <th>lbglcm_Homogeneity_2_2</th>\n",
       "      <th>lbglcm_Dissimilarity_2_2</th>\n",
       "      <th>lbglcm_Entropy_2_2</th>\n",
       "      <th>short_runs_emphasis</th>\n",
       "    </tr>\n",
       "  </thead>\n",
       "  <tbody>\n",
       "    <tr>\n",
       "      <th>0</th>\n",
       "      <td>0.010359</td>\n",
       "      <td>0.570413</td>\n",
       "      <td>0.048556</td>\n",
       "      <td>0.711519</td>\n",
       "      <td>0.011483</td>\n",
       "      <td>0.501798</td>\n",
       "      <td>0.049538</td>\n",
       "      <td>0.727958</td>\n",
       "      <td>0.009039</td>\n",
       "      <td>0.572450</td>\n",
       "      <td>...</td>\n",
       "      <td>0.926924</td>\n",
       "      <td>0.479143</td>\n",
       "      <td>0.148464</td>\n",
       "      <td>0.753824</td>\n",
       "      <td>0.927291</td>\n",
       "      <td>0.487369</td>\n",
       "      <td>0.145839</td>\n",
       "      <td>0.772787</td>\n",
       "      <td>0.927263</td>\n",
       "      <td>0.702544</td>\n",
       "    </tr>\n",
       "    <tr>\n",
       "      <th>1</th>\n",
       "      <td>0.035979</td>\n",
       "      <td>0.224525</td>\n",
       "      <td>0.132269</td>\n",
       "      <td>0.804815</td>\n",
       "      <td>0.043926</td>\n",
       "      <td>0.183065</td>\n",
       "      <td>0.137193</td>\n",
       "      <td>0.814015</td>\n",
       "      <td>0.034042</td>\n",
       "      <td>0.245373</td>\n",
       "      <td>...</td>\n",
       "      <td>0.980720</td>\n",
       "      <td>0.737981</td>\n",
       "      <td>0.191417</td>\n",
       "      <td>0.923772</td>\n",
       "      <td>0.980680</td>\n",
       "      <td>0.741564</td>\n",
       "      <td>0.190265</td>\n",
       "      <td>0.937737</td>\n",
       "      <td>0.980424</td>\n",
       "      <td>0.899993</td>\n",
       "    </tr>\n",
       "    <tr>\n",
       "      <th>2</th>\n",
       "      <td>0.010017</td>\n",
       "      <td>0.618523</td>\n",
       "      <td>0.050631</td>\n",
       "      <td>0.632986</td>\n",
       "      <td>0.015802</td>\n",
       "      <td>0.549009</td>\n",
       "      <td>0.063615</td>\n",
       "      <td>0.658276</td>\n",
       "      <td>0.014524</td>\n",
       "      <td>0.597052</td>\n",
       "      <td>...</td>\n",
       "      <td>0.971483</td>\n",
       "      <td>0.496130</td>\n",
       "      <td>0.298506</td>\n",
       "      <td>0.690254</td>\n",
       "      <td>0.971724</td>\n",
       "      <td>0.495125</td>\n",
       "      <td>0.297221</td>\n",
       "      <td>0.697704</td>\n",
       "      <td>0.971481</td>\n",
       "      <td>0.784314</td>\n",
       "    </tr>\n",
       "    <tr>\n",
       "      <th>3</th>\n",
       "      <td>0.013695</td>\n",
       "      <td>0.845704</td>\n",
       "      <td>0.031460</td>\n",
       "      <td>0.326028</td>\n",
       "      <td>0.018285</td>\n",
       "      <td>0.824613</td>\n",
       "      <td>0.037029</td>\n",
       "      <td>0.334347</td>\n",
       "      <td>0.010402</td>\n",
       "      <td>0.855310</td>\n",
       "      <td>...</td>\n",
       "      <td>0.919404</td>\n",
       "      <td>0.220867</td>\n",
       "      <td>0.622495</td>\n",
       "      <td>0.340397</td>\n",
       "      <td>0.919506</td>\n",
       "      <td>0.218014</td>\n",
       "      <td>0.634550</td>\n",
       "      <td>0.336568</td>\n",
       "      <td>0.918625</td>\n",
       "      <td>0.681142</td>\n",
       "    </tr>\n",
       "    <tr>\n",
       "      <th>4</th>\n",
       "      <td>0.013303</td>\n",
       "      <td>0.801236</td>\n",
       "      <td>0.036032</td>\n",
       "      <td>0.560247</td>\n",
       "      <td>0.015773</td>\n",
       "      <td>0.757689</td>\n",
       "      <td>0.037446</td>\n",
       "      <td>0.574345</td>\n",
       "      <td>0.011446</td>\n",
       "      <td>0.795647</td>\n",
       "      <td>...</td>\n",
       "      <td>0.930157</td>\n",
       "      <td>0.344378</td>\n",
       "      <td>0.288270</td>\n",
       "      <td>0.584367</td>\n",
       "      <td>0.930254</td>\n",
       "      <td>0.349281</td>\n",
       "      <td>0.288014</td>\n",
       "      <td>0.597086</td>\n",
       "      <td>0.929730</td>\n",
       "      <td>0.583832</td>\n",
       "    </tr>\n",
       "  </tbody>\n",
       "</table>\n",
       "<p>5 rows × 73 columns</p>\n",
       "</div>"
      ],
      "text/plain": [
       "   Contrast_0_0  Homogeneity_0_0  Dissimilarity_0_0  Entropy_0_0  \\\n",
       "0      0.010359         0.570413           0.048556     0.711519   \n",
       "1      0.035979         0.224525           0.132269     0.804815   \n",
       "2      0.010017         0.618523           0.050631     0.632986   \n",
       "3      0.013695         0.845704           0.031460     0.326028   \n",
       "4      0.013303         0.801236           0.036032     0.560247   \n",
       "\n",
       "   Contrast_0_1  Homogeneity_0_1  Dissimilarity_0_1  Entropy_0_1  \\\n",
       "0      0.011483         0.501798           0.049538     0.727958   \n",
       "1      0.043926         0.183065           0.137193     0.814015   \n",
       "2      0.015802         0.549009           0.063615     0.658276   \n",
       "3      0.018285         0.824613           0.037029     0.334347   \n",
       "4      0.015773         0.757689           0.037446     0.574345   \n",
       "\n",
       "   Contrast_0_2  Homogeneity_0_2  ...  lbglcm_Entropy_2_0  \\\n",
       "0      0.009039         0.572450  ...            0.926924   \n",
       "1      0.034042         0.245373  ...            0.980720   \n",
       "2      0.014524         0.597052  ...            0.971483   \n",
       "3      0.010402         0.855310  ...            0.919404   \n",
       "4      0.011446         0.795647  ...            0.930157   \n",
       "\n",
       "   lbglcm_Contrast_2_1  lbglcm_Homogeneity_2_1  lbglcm_Dissimilarity_2_1  \\\n",
       "0             0.479143                0.148464                  0.753824   \n",
       "1             0.737981                0.191417                  0.923772   \n",
       "2             0.496130                0.298506                  0.690254   \n",
       "3             0.220867                0.622495                  0.340397   \n",
       "4             0.344378                0.288270                  0.584367   \n",
       "\n",
       "   lbglcm_Entropy_2_1  lbglcm_Contrast_2_2  lbglcm_Homogeneity_2_2  \\\n",
       "0            0.927291             0.487369                0.145839   \n",
       "1            0.980680             0.741564                0.190265   \n",
       "2            0.971724             0.495125                0.297221   \n",
       "3            0.919506             0.218014                0.634550   \n",
       "4            0.930254             0.349281                0.288014   \n",
       "\n",
       "   lbglcm_Dissimilarity_2_2  lbglcm_Entropy_2_2  short_runs_emphasis  \n",
       "0                  0.772787            0.927263             0.702544  \n",
       "1                  0.937737            0.980424             0.899993  \n",
       "2                  0.697704            0.971481             0.784314  \n",
       "3                  0.336568            0.918625             0.681142  \n",
       "4                  0.597086            0.929730             0.583832  \n",
       "\n",
       "[5 rows x 73 columns]"
      ]
     },
     "execution_count": 8,
     "metadata": {},
     "output_type": "execute_result"
    }
   ],
   "source": [
    "normalized_X_t.head(5)"
   ]
  },
  {
   "cell_type": "code",
   "execution_count": 9,
   "metadata": {},
   "outputs": [],
   "source": [
    "X_norm = normalized_X\n",
    "X_test_norm = normalized_X_t\n",
    "\n",
    "X_train,_, y_train ,_= train_test_split(X_norm, y, train_size=0.99 , random_state=42)\n",
    "\n",
    "X_test, _, y_test  ,_ = train_test_split(X_test_norm, y_t,  train_size=0.99, random_state=42)\n",
    "# Train SVM classifier"
   ]
  },
  {
   "cell_type": "code",
   "execution_count": 10,
   "metadata": {},
   "outputs": [
    {
     "data": {
      "text/plain": [
       "(49413, 73)"
      ]
     },
     "execution_count": 10,
     "metadata": {},
     "output_type": "execute_result"
    }
   ],
   "source": [
    "X_test.shape"
   ]
  },
  {
   "cell_type": "code",
   "execution_count": 11,
   "metadata": {},
   "outputs": [
    {
     "name": "stdout",
     "output_type": "stream",
     "text": [
      "[LibSVM].................................................................................................................................................................................................................................................................................................................................................................................................................................................................................................\n",
      "Warning: using -h 0 may be faster\n",
      "*...............................................................................................................*.....................................................................................................................................................................................................................................................................................................................................................................................................................................................................................................................................................................................................................................................................................................................................................................................................................................................................................................................................................................................................................................................................................................................................................................................................................................................................................................................................................................................*...........................................................................................................................................................................................................................................................................................................................................................................................................................................................................................................................................................................................................................................................................................................................................................................................................................................................................................................................................................................................................................................................................................*....................................................................................................................................................................................................................................................................................................................................................................................................................................................................................................................................................................................................................................................................................................................................................................................................................................................................................................................................................................................................................*....................................................................................................................................................................................................................................................................................................................................................................................................................................................................................................................................................................................................................................................................................................................................*...........................................................................................................................................................................................................................................................................................................................................................................................................................................................................................................................................................................................................................................................................................*...................................................................................................................................................................................................................................................................................................................................................................................................................................................................................................................................................................*....................................................................................................................................................................................................................................................................................................................................................................................................................................................................................................................................*..............................................................................................................................................................................................................................................................................................................................................................................................................................................................................................................................................................................................................................................................................................................................................................................................................................................*.............................................................................................................................................................................................................................................................................................................................................................................................................................*...............................................................................................................................................................................................................................................................................................................................................................................*................................................................................................................*\n",
      "optimization finished, #iter = 8095218\n",
      "obj = -110916611.958818, rho = 109.182497\n",
      "nSV = 8138, nBSV = 8095\n",
      "Total nSV = 8138\n",
      "Classification Report:\n",
      "              precision    recall  f1-score   support\n",
      "\n",
      "        FAKE     0.9613    0.9861    0.9735     24639\n",
      "        REAL     0.9858    0.9605    0.9730     24774\n",
      "\n",
      "    accuracy                         0.9733     49413\n",
      "   macro avg     0.9735    0.9733    0.9733     49413\n",
      "weighted avg     0.9736    0.9733    0.9733     49413\n",
      "\n",
      "Accuracy: 0.9732661445368628\n"
     ]
    }
   ],
   "source": [
    "clf1 = svm.SVC(kernel='rbf', degree=64, C=15000.0, cache_size=2000,verbose=True)\n",
    "clf1.fit(X_train, y_train)\n",
    "\n",
    "# Predict and evaluate the classifier\n",
    "predictions = clf1.predict(X_test)\n",
    "print(\"Classification Report:\")\n",
    "print(classification_report(y_test, predictions,digits=4))\n",
    "print(\"Accuracy:\", accuracy_score(y_test, predictions))"
   ]
  },
  {
   "cell_type": "code",
   "execution_count": 79,
   "metadata": {},
   "outputs": [
    {
     "data": {
      "text/plain": [
       "49060    FAKE\n",
       "44967    FAKE\n",
       "16416    REAL\n",
       "28889    FAKE\n",
       "38998    FAKE\n",
       "         ... \n",
       "11284    REAL\n",
       "44732    FAKE\n",
       "38158    FAKE\n",
       "860      REAL\n",
       "15795    REAL\n",
       "Name: Class, Length: 49413, dtype: object"
      ]
     },
     "execution_count": 79,
     "metadata": {},
     "output_type": "execute_result"
    }
   ],
   "source": [
    "y_test"
   ]
  },
  {
   "cell_type": "code",
   "execution_count": 15,
   "metadata": {},
   "outputs": [
    {
     "data": {
      "text/plain": [
       "(49413,)"
      ]
     },
     "execution_count": 15,
     "metadata": {},
     "output_type": "execute_result"
    }
   ],
   "source": [
    "predictions.shape"
   ]
  },
  {
   "cell_type": "code",
   "execution_count": 17,
   "metadata": {},
   "outputs": [
    {
     "name": "stdout",
     "output_type": "stream",
     "text": [
      "\n",
      "Mean Average Precision (mAP): 0.9666670621868568\n"
     ]
    }
   ],
   "source": [
    "from sklearn.metrics import average_precision_score\n",
    "from sklearn.preprocessing import LabelEncoder\n",
    "\n",
    "# Assuming y_test and predictions are provided as shown\n",
    "# Convert string labels to binary labels\n",
    "label_encoder = LabelEncoder()\n",
    "y_test_binary = label_encoder.fit_transform(y_test)\n",
    "predictions_binary = label_encoder.transform(predictions)\n",
    "\n",
    "# Calculate the Mean Average Precision (mAP)\n",
    "mAP = average_precision_score(y_test_binary, predictions_binary)\n",
    "print(\"\\nMean Average Precision (mAP):\", mAP)"
   ]
  },
  {
   "cell_type": "code",
   "execution_count": 28,
   "metadata": {},
   "outputs": [
    {
     "data": {
      "text/plain": [
       "array([0, 0, 1, ..., 0, 1, 1])"
      ]
     },
     "execution_count": 28,
     "metadata": {},
     "output_type": "execute_result"
    }
   ],
   "source": [
    "y_test_binary"
   ]
  },
  {
   "cell_type": "code",
   "execution_count": 29,
   "metadata": {},
   "outputs": [
    {
     "data": {
      "text/plain": [
       "array([0, 0, 1, ..., 0, 1, 1])"
      ]
     },
     "execution_count": 29,
     "metadata": {},
     "output_type": "execute_result"
    }
   ],
   "source": [
    "predictions_binary"
   ]
  },
  {
   "cell_type": "code",
   "execution_count": null,
   "metadata": {},
   "outputs": [],
   "source": []
  },
  {
   "cell_type": "code",
   "execution_count": 31,
   "metadata": {},
   "outputs": [
    {
     "name": "stdout",
     "output_type": "stream",
     "text": [
      "Accuracy: 0.9732661445368628\n",
      "Mean Average Precision (mAP): 0.9666670621868568\n",
      "\n",
      "F1 Score: 0.9729928648825465\n"
     ]
    }
   ],
   "source": [
    "from sklearn.metrics import f1_score\n",
    "label_encoder = LabelEncoder()\n",
    "y_test_binary = label_encoder.fit_transform(y_test)\n",
    "predictions_binary = label_encoder.transform(predictions)\n",
    "\n",
    "print(\"Accuracy:\", accuracy_score(y_test, predictions))\n",
    "\n",
    "mAP = average_precision_score(y_test_binary, predictions_binary)\n",
    "print(\"Mean Average Precision (mAP):\", mAP)\n",
    "# Calculate the F1 score\n",
    "f1 = f1_score(y_test_binary, predictions_binary, pos_label=label_encoder.transform(['REAL'])[0])\n",
    "print(\"\\nF1 Score:\", f1)"
   ]
  },
  {
   "cell_type": "code",
   "execution_count": 20,
   "metadata": {},
   "outputs": [],
   "source": [
    "pickle.dump(clf1, open('SVM.sav', 'wb'))"
   ]
  },
  {
   "cell_type": "code",
   "execution_count": 3,
   "metadata": {},
   "outputs": [],
   "source": [
    "clfLoad = pickle.load(open(\"SVM.sav\", 'rb'))"
   ]
  },
  {
   "cell_type": "code",
   "execution_count": 4,
   "metadata": {},
   "outputs": [
    {
     "data": {
      "text/plain": [
       "array(['FAKE', 'FAKE', 'REAL', ..., 'FAKE', 'REAL', 'REAL'], dtype=object)"
      ]
     },
     "execution_count": 4,
     "metadata": {},
     "output_type": "execute_result"
    }
   ],
   "source": [
    "clfLoad.predict(X_test)"
   ]
  },
  {
   "cell_type": "code",
   "execution_count": 21,
   "metadata": {},
   "outputs": [
    {
     "data": {
      "image/png": "[encoded data removed]",
      "text/plain": [
       "<Figure size 800x600 with 2 Axes>"
      ]
     },
     "metadata": {},
     "output_type": "display_data"
    }
   ],
   "source": [
    "from sklearn.metrics import confusion_matrix\n",
    "import numpy as np\n",
    "import matplotlib.pyplot as plt\n",
    "import seaborn as sns\n",
    "y_pred_svm = clfLoad.predict(X_test)\n",
    "confusion_matrix(y_test,y_pred_svm)\n",
    "#plot confusion matrix\n",
    "cm = confusion_matrix(y_test,y_pred_svm)\n",
    "\n",
    "plt.figure(figsize=(8, 6))\n",
    "sns.heatmap(cm, annot=True, cmap='Blues', fmt='d', xticklabels=['fake','real'], yticklabels=['fake','real'])\n",
    "plt.xlabel('Predicted Labels')\n",
    "plt.ylabel('True Labels')\n",
    "plt.title('Confusion Matrix')\n",
    "plt.savefig('SVM_confusion_matrix_Raw.png')\n",
    "plt.show()"
   ]
  },
  {
   "cell_type": "code",
   "execution_count": 36,
   "metadata": {},
   "outputs": [
    {
     "name": "stdout",
     "output_type": "stream",
     "text": [
      "              precision    recall  f1-score   support\n",
      "\n",
      "        FAKE     0.9747    0.9830    0.9788     24639\n",
      "        REAL     0.9829    0.9747    0.9788     24774\n",
      "\n",
      "    accuracy                         0.9788     49413\n",
      "   macro avg     0.9788    0.9788    0.9788     49413\n",
      "weighted avg     0.9788    0.9788    0.9788     49413\n",
      "\n",
      "DecisionTree Accuracy: 0.9787910064153158\n"
     ]
    }
   ],
   "source": [
    "\n",
    "# Create a DecisionTreeClassifier object\n",
    "clf2 = DecisionTreeClassifier(random_state=64,criterion='entropy')\n",
    "\n",
    "# Fit the classifier to the training data\n",
    "clf2.fit(X_train, y_train)\n",
    "# Calculate the accuracy of the model\n",
    "y_pred = clf2.predict(X_test)\n",
    "\n",
    "\n",
    "# Detailed classification report\n",
    "print(classification_report(y_test, y_pred,digits=4))\n",
    "accuracy = accuracy_score(y_test, y_pred)\n",
    "print(f\"DecisionTree Accuracy: {accuracy}\")\n",
    "\n",
    "# print(\"Accuracy:\", accuracy_score(y_test, y_pred))"
   ]
  },
  {
   "cell_type": "code",
   "execution_count": 38,
   "metadata": {},
   "outputs": [],
   "source": [
    "pickle.dump(clf2, open('DT.sav', 'wb'))"
   ]
  },
  {
   "cell_type": "code",
   "execution_count": 7,
   "metadata": {},
   "outputs": [
    {
     "data": {
      "image/png": "[encoded data removed]",
      "text/plain": [
       "<Figure size 800x600 with 2 Axes>"
      ]
     },
     "metadata": {},
     "output_type": "display_data"
    }
   ],
   "source": [
    "DTLoad = pickle.load(open(\"DT.sav\", 'rb'))\n",
    "y_pred_svm = DTLoad.predict(X_test)\n",
    "confusion_matrix(y_test,y_pred_svm)\n",
    "#plot confusion matrix\n",
    "cm = confusion_matrix(y_test,y_pred_svm)\n",
    "\n",
    "plt.figure(figsize=(8, 6))\n",
    "sns.heatmap(cm, annot=True, cmap='Blues', fmt='d', xticklabels=['fake','real'], yticklabels=['fake','real'])\n",
    "plt.xlabel('Predicted Labels')\n",
    "plt.ylabel('True Labels')\n",
    "plt.title('Confusion Matrix')\n",
    "plt.savefig('DT_confusion_matrix_Raw.png')\n",
    "plt.show()"
   ]
  },
  {
   "cell_type": "code",
   "execution_count": 39,
   "metadata": {},
   "outputs": [
    {
     "name": "stdout",
     "output_type": "stream",
     "text": [
      "              precision    recall  f1-score   support\n",
      "\n",
      "        FAKE     0.9747    0.9830    0.9788     24639\n",
      "        REAL     0.9829    0.9747    0.9788     24774\n",
      "\n",
      "    accuracy                         0.9788     49413\n",
      "   macro avg     0.9788    0.9788    0.9788     49413\n",
      "weighted avg     0.9788    0.9788    0.9788     49413\n",
      "\n"
     ]
    }
   ],
   "source": [
    "DTLoad = pickle.load(open(\"DT.sav\", 'rb'))\n",
    "y_pred_DT = DTLoad.predict(X_test)\n",
    "# Detailed classification repor\n",
    "print(classification_report(y_test, y_pred_DT,digits=4))"
   ]
  },
  {
   "cell_type": "code",
   "execution_count": 14,
   "metadata": {},
   "outputs": [
    {
     "data": {
      "image/png": "[encoded data removed]",
      "text/plain": [
       "<Figure size 640x480 with 1 Axes>"
      ]
     },
     "metadata": {},
     "output_type": "display_data"
    }
   ],
   "source": [
    "\n",
    "\n",
    "tree.plot_tree(clf2)\n",
    "plt.show()"
   ]
  },
  {
   "cell_type": "code",
   "execution_count": 26,
   "metadata": {},
   "outputs": [
    {
     "name": "stdout",
     "output_type": "stream",
     "text": [
      "/bin/bash: /home/mayoi/anaconda3/envs/tf/lib/libtinfo.so.6: no version information available (required by /bin/bash)\n",
      "Collecting xgboost\n",
      "  Downloading xgboost-2.0.3-py3-none-manylinux2014_x86_64.whl.metadata (2.0 kB)\n",
      "Requirement already satisfied: numpy in /home/mayoi/anaconda3/envs/tf/lib/python3.9/site-packages (from xgboost) (1.23.5)\n",
      "Requirement already satisfied: scipy in /home/mayoi/anaconda3/envs/tf/lib/python3.9/site-packages (from xgboost) (1.12.0)\n",
      "Downloading xgboost-2.0.3-py3-none-manylinux2014_x86_64.whl (297.1 MB)\n",
      "\u001b[2K   \u001b[90m━━━━━━━━━━━━━━━━━━━━━━━━━━━━━━━━━━━━━━━━\u001b[0m \u001b[32m297.1/297.1 MB\u001b[0m \u001b[31m8.5 MB/s\u001b[0m eta \u001b[36m0:00:00\u001b[0m:00:01\u001b[0m00:01\u001b[0m\n",
      "\u001b[?25hInstalling collected packages: xgboost\n",
      "Successfully installed xgboost-2.0.3\n"
     ]
    }
   ],
   "source": [
    "!pip install xgboost"
   ]
  },
  {
   "cell_type": "code",
   "execution_count": null,
   "metadata": {},
   "outputs": [],
   "source": [
    "from sklearn.ensemble import GradientBoostingClassifier\n",
    "\n",
    "gbc = GradientBoostingClassifier(n_estimators=200, learning_rate=1.0, max_depth=1, random_state=42)\n",
    "gbc.fit(X_train, y_train)\n",
    "y_pred_gbc = gbc.predict(X_test)\n",
    "\n",
    "print(classification_report(y_test, y_pred_gbc))\n",
    "print(\"Gradient Boosting Classifier Accuracy:\", accuracy_score(y_test, y_pred_gbc))"
   ]
  },
  {
   "cell_type": "code",
   "execution_count": 9,
   "metadata": {},
   "outputs": [
    {
     "name": "stdout",
     "output_type": "stream",
     "text": [
      "              precision    recall  f1-score   support\n",
      "\n",
      "        FAKE     0.9753    0.9920    0.9836     24639\n",
      "        REAL     0.9920    0.9750    0.9834     24774\n",
      "\n",
      "    accuracy                         0.9835     49413\n",
      "   macro avg     0.9836    0.9835    0.9835     49413\n",
      "weighted avg     0.9836    0.9835    0.9835     49413\n",
      "\n",
      "Random Forest Accuracy: 0.9835063647218343\n"
     ]
    }
   ],
   "source": [
    "\n",
    "rf = RandomForestClassifier(n_estimators=200, random_state=42)\n",
    "rf.fit(X_train, y_train)\n",
    "y_pred_rf = rf.predict(X_test)\n",
    "\n",
    "\n",
    "print(classification_report(y_test, y_pred_rf,digits=4))\n",
    "print(\"Random Forest Accuracy:\", accuracy_score(y_test, y_pred_rf))"
   ]
  },
  {
   "cell_type": "code",
   "execution_count": 10,
   "metadata": {},
   "outputs": [],
   "source": [
    "pickle.dump(rf, open('rf.sav', 'wb'))"
   ]
  },
  {
   "cell_type": "code",
   "execution_count": 11,
   "metadata": {},
   "outputs": [
    {
     "data": {
      "image/png": "[encoded data removed]",
      "text/plain": [
       "<Figure size 800x600 with 2 Axes>"
      ]
     },
     "metadata": {},
     "output_type": "display_data"
    }
   ],
   "source": [
    "RFLoad = pickle.load(open(\"rf.sav\", 'rb'))\n",
    "y_pred_svm = RFLoad.predict(X_test)\n",
    "confusion_matrix(y_test,y_pred_svm)\n",
    "#plot confusion matrix\n",
    "cm = confusion_matrix(y_test,y_pred_svm)\n",
    "\n",
    "plt.figure(figsize=(8, 6))\n",
    "sns.heatmap(cm, annot=True, cmap='Blues', fmt='d', xticklabels=['fake','real'], yticklabels=['fake','real'])\n",
    "plt.xlabel('Predicted Labels')\n",
    "plt.ylabel('True Labels')\n",
    "plt.title('Confusion Matrix')\n",
    "plt.savefig('Random_Forest_confusion_matrix_Raw.png')\n",
    "plt.show()"
   ]
  },
  {
   "cell_type": "code",
   "execution_count": 13,
   "metadata": {},
   "outputs": [
    {
     "name": "stdout",
     "output_type": "stream",
     "text": [
      "              precision    recall  f1-score   support\n",
      "\n",
      "        FAKE     0.7653    0.9538    0.8492     24639\n",
      "        REAL     0.9391    0.7090    0.8080     24774\n",
      "\n",
      "    accuracy                         0.8311     49413\n",
      "   macro avg     0.8522    0.8314    0.8286     49413\n",
      "weighted avg     0.8524    0.8311    0.8285     49413\n",
      "\n",
      "Gaussian Naive Bayes Accuracy: 0.8310768421265659\n"
     ]
    }
   ],
   "source": [
    "\n",
    "gnb = GaussianNB(var_smoothing=32.12e-8)\n",
    "gnb.fit(X_train, y_train)\n",
    "y_pred_nb = gnb.predict(X_test)\n",
    "\n",
    "print(classification_report(y_test, y_pred_nb, digits=4))\n",
    "print(\"Gaussian Naive Bayes Accuracy:\", accuracy_score(y_test, y_pred_nb))"
   ]
  },
  {
   "cell_type": "code",
   "execution_count": 14,
   "metadata": {},
   "outputs": [],
   "source": [
    "pickle.dump(gnb, open('gnb.sav', 'wb'))"
   ]
  },
  {
   "cell_type": "code",
   "execution_count": 15,
   "metadata": {},
   "outputs": [
    {
     "data": {
      "image/png": "[encoded data removed]",
      "text/plain": [
       "<Figure size 800x600 with 2 Axes>"
      ]
     },
     "metadata": {},
     "output_type": "display_data"
    }
   ],
   "source": [
    "RFLoad = pickle.load(open(\"gnb.sav\", 'rb'))\n",
    "y_pred_svm = RFLoad.predict(X_test)\n",
    "confusion_matrix(y_test,y_pred_svm)\n",
    "#plot confusion matrix\n",
    "cm = confusion_matrix(y_test,y_pred_svm)\n",
    "\n",
    "plt.figure(figsize=(8, 6))\n",
    "sns.heatmap(cm, annot=True, cmap='Blues', fmt='d', xticklabels=['fake','real'], yticklabels=['fake','real'])\n",
    "plt.xlabel('Predicted Labels')\n",
    "plt.ylabel('True Labels')\n",
    "plt.title('Confusion Matrix')\n",
    "plt.savefig('gnb_confusion_matrix_Raw.png')\n",
    "plt.show()"
   ]
  },
  {
   "cell_type": "code",
   "execution_count": 17,
   "metadata": {},
   "outputs": [
    {
     "name": "stdout",
     "output_type": "stream",
     "text": [
      "              precision    recall  f1-score   support\n",
      "\n",
      "        FAKE     0.9849    0.9910    0.9879     24639\n",
      "        REAL     0.9910    0.9849    0.9879     24774\n",
      "\n",
      "    accuracy                         0.9879     49413\n",
      "   macro avg     0.9879    0.9879    0.9879     49413\n",
      "weighted avg     0.9880    0.9879    0.9879     49413\n",
      "\n",
      "KNN Accuracy: 0.9879383967781757\n"
     ]
    }
   ],
   "source": [
    "#KNN \n",
    "\n",
    "from sklearn.metrics import accuracy_score\n",
    "\n",
    "knn = KNeighborsClassifier(n_neighbors=5, weights='distance' , metric='euclidean',algorithm='kd_tree')\n",
    "knn.fit(X_train, y_train)\n",
    "y_pred_knn = knn.predict(X_test)\n",
    "\n",
    "print(classification_report(y_test, y_pred_knn,digits=4))\n",
    "print(\"KNN Accuracy:\", accuracy_score(y_test, y_pred_knn))"
   ]
  },
  {
   "cell_type": "code",
   "execution_count": 18,
   "metadata": {},
   "outputs": [],
   "source": [
    "pickle.dump(knn, open('knn.sav', 'wb'))"
   ]
  },
  {
   "cell_type": "code",
   "execution_count": 19,
   "metadata": {},
   "outputs": [
    {
     "data": {
      "image/png": "[encoded data removed]",
      "text/plain": [
       "<Figure size 800x600 with 2 Axes>"
      ]
     },
     "metadata": {},
     "output_type": "display_data"
    }
   ],
   "source": [
    "KNNLoad = pickle.load(open(\"knn.sav\", 'rb'))\n",
    "y_pred_svm = KNNLoad.predict(X_test)\n",
    "confusion_matrix(y_test,y_pred_svm)\n",
    "#plot confusion matrix\n",
    "cm = confusion_matrix(y_test,y_pred_svm)\n",
    "\n",
    "plt.figure(figsize=(8, 6))\n",
    "sns.heatmap(cm, annot=True, cmap='Blues', fmt='d', xticklabels=['fake','real'], yticklabels=['fake','real'])\n",
    "plt.xlabel('Predicted Labels')\n",
    "plt.ylabel('True Labels')\n",
    "plt.title('Confusion Matrix')\n",
    "plt.savefig('Knn_confusion_matrix_Raw.png')\n",
    "plt.show()"
   ]
  },
  {
   "cell_type": "code",
   "execution_count": 57,
   "metadata": {},
   "outputs": [
    {
     "name": "stdout",
     "output_type": "stream",
     "text": [
      "              precision    recall  f1-score   support\n",
      "\n",
      "        FAKE     0.8381    0.3482    0.4920     24639\n",
      "        REAL     0.5901    0.9331    0.7230     24774\n",
      "\n",
      "    accuracy                         0.6415     49413\n",
      "   macro avg     0.7141    0.6407    0.6075     49413\n",
      "weighted avg     0.7138    0.6415    0.6078     49413\n",
      "\n",
      "KNN Accuracy: 0.641470867990205\n"
     ]
    }
   ],
   "source": [
    "from sklearn.neural_network import MLPClassifier\n",
    "mlp =  MLPClassifier(random_state=42, max_iter=300)\n",
    "mlp.fit(X_train, y_train)\n",
    "y_pred_mlp = mlp.predict(X_test)\n",
    "\n",
    "print(classification_report(y_test, y_pred_mlp,digits=4))\n",
    "print(\"MLP Accuracy:\", accuracy_score(y_test, y_pred_mlp))\n"
   ]
  },
  {
   "cell_type": "code",
   "execution_count": 73,
   "metadata": {},
   "outputs": [],
   "source": [
    "pickle.dump(mlp, open('MLP.sav', 'wb'))"
   ]
  },
  {
   "cell_type": "code",
   "execution_count": 20,
   "metadata": {},
   "outputs": [
    {
     "data": {
      "image/png": "[encoded data removed]",
      "text/plain": [
       "<Figure size 800x600 with 2 Axes>"
      ]
     },
     "metadata": {},
     "output_type": "display_data"
    }
   ],
   "source": [
    "MLPLoad = pickle.load(open(\"MLP.sav\", 'rb'))\n",
    "y_pred_svm = MLPLoad.predict(X_test)\n",
    "confusion_matrix(y_test,y_pred_svm)\n",
    "#plot confusion matrix\n",
    "cm = confusion_matrix(y_test,y_pred_svm)\n",
    "\n",
    "plt.figure(figsize=(8, 6))\n",
    "sns.heatmap(cm, annot=True, cmap='Blues', fmt='d', xticklabels=['fake','real'], yticklabels=['fake','real'])\n",
    "plt.xlabel('Predicted Labels')\n",
    "plt.ylabel('True Labels')\n",
    "plt.title('Confusion Matrix')\n",
    "plt.savefig('mlp_confusion_matrix_Raw.png')\n",
    "plt.show()"
   ]
  },
  {
   "cell_type": "code",
   "execution_count": 60,
   "metadata": {},
   "outputs": [
    {
     "name": "stdout",
     "output_type": "stream",
     "text": [
      "              precision    recall  f1-score   support\n",
      "\n",
      "        FAKE     0.8381    0.3482    0.4920     24639\n",
      "        REAL     0.5901    0.9331    0.7230     24774\n",
      "\n",
      "    accuracy                         0.6415     49413\n",
      "   macro avg     0.7141    0.6407    0.6075     49413\n",
      "weighted avg     0.7138    0.6415    0.6078     49413\n",
      "\n",
      "MLP Accuracy: 0.641470867990205\n"
     ]
    }
   ],
   "source": [
    "from sklearn.neural_network import MLPClassifier\n",
    "mlp =  MLPClassifier(random_state=42, max_iter=800)\n",
    "mlp.fit(X_train, y_train)\n",
    "y_pred_mlp = mlp.predict(X_test)\n",
    "\n",
    "print(classification_report(y_test, y_pred_mlp,digits=4))\n",
    "print(\"MLP Accuracy:\", accuracy_score(y_test, y_pred_mlp))"
   ]
  },
  {
   "cell_type": "code",
   "execution_count": null,
   "metadata": {},
   "outputs": [],
   "source": []
  },
  {
   "cell_type": "code",
   "execution_count": 56,
   "metadata": {},
   "outputs": [
    {
     "name": "stdout",
     "output_type": "stream",
     "text": [
      "Accuracy: 0.97 (+/- 0.00) [Logistic Regression]\n",
      "Accuracy: 0.97 (+/- 0.00) [Random Forest]\n",
      "Accuracy: 0.98 (+/- 0.00) [naive Bayes]\n",
      "Accuracy: 0.83 (+/- 0.01) [Ensemble]\n"
     ]
    }
   ],
   "source": [
    "\n",
    "\n",
    "eclf = VotingClassifier( estimators=[('svm', clf1),('dt', clf1), ('rf', rf), ('gnb', gnb),('knn',knn)], voting='hard')\n",
    "for clf, label in zip([clf1, clf2, rf,gnb, knn ,eclf], ['svm', 'Random Forest', 'naive Bayes', 'Ensemble']):\n",
    "    scores = cross_val_score(clf, X, y, scoring='accuracy', cv=5)\n",
    "    print(\"Accuracy: %0.2f (+/- %0.2f) [%s]\" % (scores.mean(), scores.std(), label))"
   ]
  },
  {
   "cell_type": "code",
   "execution_count": 10,
   "metadata": {},
   "outputs": [
    {
     "name": "stderr",
     "output_type": "stream",
     "text": [
      "/home/mayoi/anaconda3/envs/tf/lib/python3.9/site-packages/skimage/feature/texture.py:353: UserWarning: Applying `local_binary_pattern` to floating-point images may give unexpected results when small numerical differences between adjacent pixels are present. It is recommended to use this function with images of integer dtype.\n",
      "  warnings.warn(\n"
     ]
    },
    {
     "name": "stdout",
     "output_type": "stream",
     "text": [
      "[[57.27268772372938, 0.18794217225462392, 1.4967731691433335, 3.7296587419183376, 115.69807501789073, 0.1527629516518565, 2.3276108576200962, 3.9531944301965076, 78.5380833539501, 0.1763919707696919, 1.7856419477500707, 3.808902338252689, 328.5104623933961, 0.0980209409600864, 4.845977028060575, 4.335631133979484, 438.54283539894186, 0.08017549054819513, 6.059619727391865, 4.467685414610212, 408.28821792546654, 0.0852992891918292, 5.6771919638626, 4.4294220897742465, 873.8997364566244, 0.04019430267086286, 10.439117548729994, 4.784952077324551, 1045.1566222320469, 0.033695147572522025, 11.798727539008036, 4.844732916214323, 1016.9388988344443, 0.033528424576042055, 11.645950830136185, 4.842129001498273, 24.090897875021923, 0.1517478256565984, 1.6307948561761985, -8351286.742590395, 30.29117736222211, 0.12244376481514925, 2.032465333742464, -8164342.283938818, 26.075517511692187, 0.14121491184874854, 1.7610990793887005, -8279340.371974592, 37.04809931138876, 0.09468162714222528, 2.507077080223293, -8033358.750729494, 38.231294345780775, 0.08780421529498374, 2.6120426461606523, -7979768.319423369, 38.01794053572278, 0.08886061559401531, 2.596708791583617, -7988417.371861428, 39.429036337630286, 0.07921606459377814, 2.7473790861498872, -7931049.374215157, 40.01955724678921, 0.0767453897224367, 2.789839132899513, -7816448.621891282, 39.95588513754105, 0.07689713308979168, 2.7875550330122625, -7816399.860102772, 0.7433136986327606]]\n"
     ]
    }
   ],
   "source": []
  },
  {
   "cell_type": "code",
   "execution_count": 66,
   "metadata": {},
   "outputs": [
    {
     "name": "stdout",
     "output_type": "stream",
     "text": [
      "[Voting] ...................... (5 of 5) Processing knn, total=   0.1s\n",
      "[Voting] ...................... (4 of 5) Processing gnb, total=   0.2s\n",
      "[Voting] ....................... (3 of 5) Processing rf, total= 2.4min\n",
      "[Voting] ....................... (2 of 5) Processing dt, total= 5.5min\n",
      "[Voting] ...................... (1 of 5) Processing svm, total= 5.5min\n",
      "              precision    recall  f1-score   support\n",
      "\n",
      "        FAKE     0.9627    0.9876    0.9750     24639\n",
      "        REAL     0.9873    0.9620    0.9745     24774\n",
      "\n",
      "    accuracy                         0.9747     49413\n",
      "   macro avg     0.9750    0.9748    0.9747     49413\n",
      "weighted avg     0.9751    0.9747    0.9747     49413\n",
      "\n",
      "Ensemble Accuracy: 0.9747434885556433\n"
     ]
    }
   ],
   "source": [
    "\n",
    "\n",
    "clf1 = svm.SVC(kernel='rbf', degree=64, C=15000.0, coef0=0.1)\n",
    "clf2 = DecisionTreeClassifier(random_state=64)\n",
    "gnb = GaussianNB(var_smoothing=1e-7)\n",
    "rf = RandomForestClassifier(n_estimators=100, random_state=42)\n",
    "knn = KNeighborsClassifier(n_neighbors=5)\n",
    "\n",
    "eclf = VotingClassifier( estimators=[('svm', clf1),('dt', clf1), ('rf', rf), ('gnb', gnb),('knn',knn)], voting='hard',n_jobs=16,verbose=True)\n",
    "eclf.fit(X_train,y_train)\n",
    "\n",
    "y_pred_eclf= eclf.predict(X_test)\n",
    "\n",
    "\n",
    "print(classification_report(y_test, y_pred_eclf,digits=4))\n",
    "print(\"Ensemble Accuracy:\", accuracy_score(y_test, y_pred_eclf))"
   ]
  },
  {
   "cell_type": "code",
   "execution_count": 50,
   "metadata": {},
   "outputs": [
    {
     "data": {
      "image/png": "[encoded data removed]",
      "text/plain": [
       "<Figure size 800x600 with 2 Axes>"
      ]
     },
     "metadata": {},
     "output_type": "display_data"
    }
   ],
   "source": [
    "from sklearn.metrics import confusion_matrix\n",
    "import numpy as np\n",
    "import matplotlib.pyplot as plt\n",
    "import seaborn as sns\n",
    "\n",
    "confusion_matrix(y_test,y_pred_eclf)\n",
    "#plot confusion matrix\n",
    "cm = confusion_matrix(y_test,y_pred_eclf)\n",
    "\n",
    "plt.figure(figsize=(8, 6))\n",
    "sns.heatmap(cm, annot=True, cmap='Blues', fmt='d', xticklabels=['fake','real'], yticklabels=['fake','real'])\n",
    "plt.xlabel('Predicted Labels')\n",
    "plt.ylabel('True Labels')\n",
    "plt.title('Confusion Matrix')\n",
    "plt.savefig('EMs_confusion_matrix_Raw.png')\n",
    "plt.show()"
   ]
  },
  {
   "cell_type": "code",
   "execution_count": 51,
   "metadata": {},
   "outputs": [
    {
     "data": {
      "image/png": "[encoded data removed]",
      "text/plain": [
       "<Figure size 800x600 with 2 Axes>"
      ]
     },
     "metadata": {},
     "output_type": "display_data"
    }
   ],
   "source": [
    "cm_percent = cm / cm.sum(axis=1).reshape(-1, 1) * 100\n",
    "\n",
    "plt.figure(figsize=(8, 6))\n",
    "sns.heatmap(cm_percent, annot=True, cmap='Blues', fmt='.2f', xticklabels=['fake','real'], yticklabels=['fake','real'])\n",
    "plt.xlabel('Predicted Labels')\n",
    "plt.ylabel('True Labels')\n",
    "plt.title('Confusion Matrix')\n",
    "plt.savefig('EMs_confusion_matrix_Precent.png')\n",
    "plt.show()"
   ]
  },
  {
   "cell_type": "code",
   "execution_count": null,
   "metadata": {},
   "outputs": [],
   "source": []
  },
  {
   "cell_type": "code",
   "execution_count": 14,
   "metadata": {},
   "outputs": [
    {
     "name": "stderr",
     "output_type": "stream",
     "text": [
      "/home/mayoi/anaconda3/envs/tf/lib/python3.9/site-packages/sklearn/base.py:493: UserWarning: X does not have valid feature names, but SVC was fitted with feature names\n",
      "  warnings.warn(\n",
      "/home/mayoi/anaconda3/envs/tf/lib/python3.9/site-packages/sklearn/base.py:493: UserWarning: X does not have valid feature names, but SVC was fitted with feature names\n",
      "  warnings.warn(\n",
      "/home/mayoi/anaconda3/envs/tf/lib/python3.9/site-packages/sklearn/base.py:493: UserWarning: X does not have valid feature names, but RandomForestClassifier was fitted with feature names\n",
      "  warnings.warn(\n",
      "/home/mayoi/anaconda3/envs/tf/lib/python3.9/site-packages/sklearn/base.py:493: UserWarning: X does not have valid feature names, but GaussianNB was fitted with feature names\n",
      "  warnings.warn(\n",
      "/home/mayoi/anaconda3/envs/tf/lib/python3.9/site-packages/sklearn/base.py:493: UserWarning: X does not have valid feature names, but KNeighborsClassifier was fitted with feature names\n",
      "  warnings.warn(\n"
     ]
    },
    {
     "data": {
      "text/plain": [
       "array(['FAKE'], dtype=object)"
      ]
     },
     "execution_count": 14,
     "metadata": {},
     "output_type": "execute_result"
    }
   ],
   "source": [
    "eclf.predict(input)"
   ]
  },
  {
   "cell_type": "code",
   "execution_count": 67,
   "metadata": {},
   "outputs": [],
   "source": [
    "import pickle"
   ]
  },
  {
   "cell_type": "code",
   "execution_count": 47,
   "metadata": {},
   "outputs": [],
   "source": [
    "\n",
    "\n",
    "filename = 'Ensemble_P_model_FuLL.sav'\n"
   ]
  },
  {
   "cell_type": "code",
   "execution_count": 48,
   "metadata": {},
   "outputs": [],
   "source": [
    "pickle.dump(eclf, open(filename, 'wb'))\n"
   ]
  },
  {
   "cell_type": "code",
   "execution_count": 49,
   "metadata": {},
   "outputs": [
    {
     "name": "stderr",
     "output_type": "stream",
     "text": [
      "/home/mayoi/anaconda3/envs/tf/lib/python3.9/site-packages/skimage/feature/texture.py:353: UserWarning: Applying `local_binary_pattern` to floating-point images may give unexpected results when small numerical differences between adjacent pixels are present. It is recommended to use this function with images of integer dtype.\n",
      "  warnings.warn(\n"
     ]
    },
    {
     "name": "stdout",
     "output_type": "stream",
     "text": [
      "[[19.96856625830304, 0.2623308889755551, 0.6600185136017231, 2.658078580767158, 43.7776380275433, 0.2494017158145595, 0.9443252727694239, 2.7543807027186102, 28.77554627450938, 0.26351988008164146, 0.7171941313218695, 2.6580562699755643, 163.8619739199963, 0.21319409808335588, 2.2086732543387444, 3.014474309150005, 209.77513853660005, 0.2054918778780748, 2.4919612588630318, 3.0572807958788846, 187.74217955033524, 0.21405194952486348, 2.281968289708372, 3.0128478474602893, 572.094870982936, 0.15754918893505107, 5.6196770086690355, 3.3997353842562448, 558.688958156387, 0.15585395552613682, 5.405987741940451, 3.395523926852412, 546.3609684265438, 0.1562462201998521, 5.334087938383187, 3.3917773310947035, 13.106684521414573, 0.21782972081020494, 0.9453446119328165, -110615772.1861093, 17.11646683302259, 0.19113588678185814, 1.2393953356503, -108680511.84117305, 13.435725058344387, 0.21622369409039136, 0.9637156016003027, -110488111.87035716, 21.63512303432309, 0.16857329337035631, 1.5852559744632604, -106864178.45097767, 22.70485043792365, 0.1580911576117959, 1.6805160781591917, -106151497.36311229, 21.777575314799577, 0.16568810745465873, 1.5996767545964519, -106612764.6800831, 23.830482874485607, 0.14794146427805657, 1.784974341140991, -105194070.99268228, 24.078011097800754, 0.1438707706387756, 1.8078406289879858, -104683005.7548211, 23.93306991800243, 0.14524889658411091, 1.7938155980951842, -104825807.9126573, 0.7299531624868287]]\n"
     ]
    }
   ],
   "source": [
    "image_path = 'real4.jpg'\n",
    "input = [list(process_image(image_path).values())]\n",
    "print(input)"
   ]
  },
  {
   "cell_type": "code",
   "execution_count": 19,
   "metadata": {},
   "outputs": [
    {
     "data": {
      "text/plain": [
       "Contrast_0_0                3.309004e-01\n",
       "Homogeneity_0_0             8.307104e-03\n",
       "Dissimilarity_0_0           6.746274e-02\n",
       "Entropy_0_0                 2.615045e-01\n",
       "Contrast_0_1                5.046723e-01\n",
       "                                ...     \n",
       "lbglcm_Contrast_2_2         2.945889e+00\n",
       "lbglcm_Homogeneity_2_2      4.999242e-02\n",
       "lbglcm_Dissimilarity_2_2    2.103967e-01\n",
       "lbglcm_Entropy_2_2         -9.230131e+07\n",
       "short_runs_emphasis         3.601368e-01\n",
       "Length: 73, dtype: float64"
      ]
     },
     "execution_count": 19,
     "metadata": {},
     "output_type": "execute_result"
    }
   ],
   "source": [
    "X.min()"
   ]
  },
  {
   "cell_type": "code",
   "execution_count": 23,
   "metadata": {},
   "outputs": [
    {
     "name": "stderr",
     "output_type": "stream",
     "text": [
      "/home/mayoi/anaconda3/envs/tf/lib/python3.9/site-packages/skimage/feature/texture.py:353: UserWarning: Applying `local_binary_pattern` to floating-point images may give unexpected results when small numerical differences between adjacent pixels are present. It is recommended to use this function with images of integer dtype.\n",
      "  warnings.warn(\n"
     ]
    }
   ],
   "source": [
    "y_pred = process_image(image_path)"
   ]
  },
  {
   "cell_type": "code",
   "execution_count": 25,
   "metadata": {},
   "outputs": [],
   "source": [
    "input_df = pd.DataFrame(y_pred, index=[0])"
   ]
  },
  {
   "cell_type": "code",
   "execution_count": 26,
   "metadata": {},
   "outputs": [
    {
     "data": {
      "text/html": [
       "<div>\n",
       "<style scoped>\n",
       "    .dataframe tbody tr th:only-of-type {\n",
       "        vertical-align: middle;\n",
       "    }\n",
       "\n",
       "    .dataframe tbody tr th {\n",
       "        vertical-align: top;\n",
       "    }\n",
       "\n",
       "    .dataframe thead th {\n",
       "        text-align: right;\n",
       "    }\n",
       "</style>\n",
       "<table border=\"1\" class=\"dataframe\">\n",
       "  <thead>\n",
       "    <tr style=\"text-align: right;\">\n",
       "      <th></th>\n",
       "      <th>Contrast_0_0</th>\n",
       "      <th>Homogeneity_0_0</th>\n",
       "      <th>Dissimilarity_0_0</th>\n",
       "      <th>Entropy_0_0</th>\n",
       "      <th>Contrast_0_1</th>\n",
       "      <th>Homogeneity_0_1</th>\n",
       "      <th>Dissimilarity_0_1</th>\n",
       "      <th>Entropy_0_1</th>\n",
       "      <th>Contrast_0_2</th>\n",
       "      <th>Homogeneity_0_2</th>\n",
       "      <th>...</th>\n",
       "      <th>lbglcm_Entropy_2_0</th>\n",
       "      <th>lbglcm_Contrast_2_1</th>\n",
       "      <th>lbglcm_Homogeneity_2_1</th>\n",
       "      <th>lbglcm_Dissimilarity_2_1</th>\n",
       "      <th>lbglcm_Entropy_2_1</th>\n",
       "      <th>lbglcm_Contrast_2_2</th>\n",
       "      <th>lbglcm_Homogeneity_2_2</th>\n",
       "      <th>lbglcm_Dissimilarity_2_2</th>\n",
       "      <th>lbglcm_Entropy_2_2</th>\n",
       "      <th>short_runs_emphasis</th>\n",
       "    </tr>\n",
       "  </thead>\n",
       "  <tbody>\n",
       "    <tr>\n",
       "      <th>0</th>\n",
       "      <td>19.968566</td>\n",
       "      <td>0.262331</td>\n",
       "      <td>0.660019</td>\n",
       "      <td>2.658079</td>\n",
       "      <td>43.777638</td>\n",
       "      <td>0.249402</td>\n",
       "      <td>0.944325</td>\n",
       "      <td>2.754381</td>\n",
       "      <td>28.775546</td>\n",
       "      <td>0.26352</td>\n",
       "      <td>...</td>\n",
       "      <td>-1.051941e+08</td>\n",
       "      <td>24.078011</td>\n",
       "      <td>0.143871</td>\n",
       "      <td>1.807841</td>\n",
       "      <td>-1.046830e+08</td>\n",
       "      <td>23.93307</td>\n",
       "      <td>0.145249</td>\n",
       "      <td>1.793816</td>\n",
       "      <td>-1.048258e+08</td>\n",
       "      <td>0.729953</td>\n",
       "    </tr>\n",
       "  </tbody>\n",
       "</table>\n",
       "<p>1 rows × 73 columns</p>\n",
       "</div>"
      ],
      "text/plain": [
       "   Contrast_0_0  Homogeneity_0_0  Dissimilarity_0_0  Entropy_0_0  \\\n",
       "0     19.968566         0.262331           0.660019     2.658079   \n",
       "\n",
       "   Contrast_0_1  Homogeneity_0_1  Dissimilarity_0_1  Entropy_0_1  \\\n",
       "0     43.777638         0.249402           0.944325     2.754381   \n",
       "\n",
       "   Contrast_0_2  Homogeneity_0_2  ...  lbglcm_Entropy_2_0  \\\n",
       "0     28.775546          0.26352  ...       -1.051941e+08   \n",
       "\n",
       "   lbglcm_Contrast_2_1  lbglcm_Homogeneity_2_1  lbglcm_Dissimilarity_2_1  \\\n",
       "0            24.078011                0.143871                  1.807841   \n",
       "\n",
       "   lbglcm_Entropy_2_1  lbglcm_Contrast_2_2  lbglcm_Homogeneity_2_2  \\\n",
       "0       -1.046830e+08             23.93307                0.145249   \n",
       "\n",
       "   lbglcm_Dissimilarity_2_2  lbglcm_Entropy_2_2  short_runs_emphasis  \n",
       "0                  1.793816       -1.048258e+08             0.729953  \n",
       "\n",
       "[1 rows x 73 columns]"
      ]
     },
     "execution_count": 26,
     "metadata": {},
     "output_type": "execute_result"
    }
   ],
   "source": [
    "input_df"
   ]
  },
  {
   "cell_type": "code",
   "execution_count": 33,
   "metadata": {},
   "outputs": [
    {
     "data": {
      "text/html": [
       "<div>\n",
       "<style scoped>\n",
       "    .dataframe tbody tr th:only-of-type {\n",
       "        vertical-align: middle;\n",
       "    }\n",
       "\n",
       "    .dataframe tbody tr th {\n",
       "        vertical-align: top;\n",
       "    }\n",
       "\n",
       "    .dataframe thead th {\n",
       "        text-align: right;\n",
       "    }\n",
       "</style>\n",
       "<table border=\"1\" class=\"dataframe\">\n",
       "  <thead>\n",
       "    <tr style=\"text-align: right;\">\n",
       "      <th></th>\n",
       "      <th>Contrast_0_0</th>\n",
       "      <th>Homogeneity_0_0</th>\n",
       "      <th>Dissimilarity_0_0</th>\n",
       "      <th>Entropy_0_0</th>\n",
       "      <th>Contrast_0_1</th>\n",
       "      <th>Homogeneity_0_1</th>\n",
       "      <th>Dissimilarity_0_1</th>\n",
       "      <th>Entropy_0_1</th>\n",
       "      <th>Contrast_0_2</th>\n",
       "      <th>Homogeneity_0_2</th>\n",
       "      <th>...</th>\n",
       "      <th>lbglcm_Entropy_2_0</th>\n",
       "      <th>lbglcm_Contrast_2_1</th>\n",
       "      <th>lbglcm_Homogeneity_2_1</th>\n",
       "      <th>lbglcm_Dissimilarity_2_1</th>\n",
       "      <th>lbglcm_Entropy_2_1</th>\n",
       "      <th>lbglcm_Contrast_2_2</th>\n",
       "      <th>lbglcm_Homogeneity_2_2</th>\n",
       "      <th>lbglcm_Dissimilarity_2_2</th>\n",
       "      <th>lbglcm_Entropy_2_2</th>\n",
       "      <th>short_runs_emphasis</th>\n",
       "    </tr>\n",
       "  </thead>\n",
       "  <tbody>\n",
       "    <tr>\n",
       "      <th>0</th>\n",
       "      <td>0.006781</td>\n",
       "      <td>0.80648</td>\n",
       "      <td>0.027436</td>\n",
       "      <td>0.492971</td>\n",
       "      <td>0.01163</td>\n",
       "      <td>0.769219</td>\n",
       "      <td>0.03262</td>\n",
       "      <td>0.507256</td>\n",
       "      <td>0.010173</td>\n",
       "      <td>0.813218</td>\n",
       "      <td>...</td>\n",
       "      <td>-0.138716</td>\n",
       "      <td>0.329012</td>\n",
       "      <td>0.363566</td>\n",
       "      <td>0.532225</td>\n",
       "      <td>-0.137302</td>\n",
       "      <td>0.331685</td>\n",
       "      <td>0.36417</td>\n",
       "      <td>0.540924</td>\n",
       "      <td>-0.136334</td>\n",
       "      <td>0.583501</td>\n",
       "    </tr>\n",
       "  </tbody>\n",
       "</table>\n",
       "<p>1 rows × 73 columns</p>\n",
       "</div>"
      ],
      "text/plain": [
       "   Contrast_0_0  Homogeneity_0_0  Dissimilarity_0_0  Entropy_0_0  \\\n",
       "0      0.006781          0.80648           0.027436     0.492971   \n",
       "\n",
       "   Contrast_0_1  Homogeneity_0_1  Dissimilarity_0_1  Entropy_0_1  \\\n",
       "0       0.01163         0.769219            0.03262     0.507256   \n",
       "\n",
       "   Contrast_0_2  Homogeneity_0_2  ...  lbglcm_Entropy_2_0  \\\n",
       "0      0.010173         0.813218  ...           -0.138716   \n",
       "\n",
       "   lbglcm_Contrast_2_1  lbglcm_Homogeneity_2_1  lbglcm_Dissimilarity_2_1  \\\n",
       "0             0.329012                0.363566                  0.532225   \n",
       "\n",
       "   lbglcm_Entropy_2_1  lbglcm_Contrast_2_2  lbglcm_Homogeneity_2_2  \\\n",
       "0           -0.137302             0.331685                 0.36417   \n",
       "\n",
       "   lbglcm_Dissimilarity_2_2  lbglcm_Entropy_2_2  short_runs_emphasis  \n",
       "0                  0.540924           -0.136334             0.583501  \n",
       "\n",
       "[1 rows x 73 columns]"
      ]
     },
     "execution_count": 33,
     "metadata": {},
     "output_type": "execute_result"
    }
   ],
   "source": [
    "normalized_input = (input_df-X.min())/(X.max()-X.min())\n",
    "normalized_input"
   ]
  },
  {
   "cell_type": "code",
   "execution_count": 52,
   "metadata": {},
   "outputs": [],
   "source": [
    "loaded_model = pickle.load(open(filename, 'rb'))"
   ]
  },
  {
   "cell_type": "code",
   "execution_count": 37,
   "metadata": {},
   "outputs": [
    {
     "name": "stdout",
     "output_type": "stream",
     "text": [
      "['FAKE']\n"
     ]
    }
   ],
   "source": [
    "loaded_model = pickle.load(open(filename, 'rb'))\n",
    "\n",
    "result = loaded_model.predict(X_test)\n",
    "\n",
    "print(result)"
   ]
  },
  {
   "cell_type": "code",
   "execution_count": 53,
   "metadata": {},
   "outputs": [
    {
     "name": "stdout",
     "output_type": "stream",
     "text": [
      "['FAKE' 'FAKE' 'REAL' ... 'FAKE' 'REAL' 'REAL']\n"
     ]
    }
   ],
   "source": [
    "result = loaded_model.predict(X_test)\n",
    "print(result)"
   ]
  },
  {
   "cell_type": "code",
   "execution_count": null,
   "metadata": {},
   "outputs": [],
   "source": []
  }
 ],
 "metadata": {
  "kernelspec": {
   "display_name": "tf",
   "language": "python",
   "name": "python3"
  },
  "language_info": {
   "codemirror_mode": {
    "name": "ipython",
    "version": 3
   },
   "file_extension": ".py",
   "mimetype": "text/x-python",
   "name": "python",
   "nbconvert_exporter": "python",
   "pygments_lexer": "ipython3",
   "version": "3.9.18"
  }
 },
 "nbformat": 4,
 "nbformat_minor": 2
}
